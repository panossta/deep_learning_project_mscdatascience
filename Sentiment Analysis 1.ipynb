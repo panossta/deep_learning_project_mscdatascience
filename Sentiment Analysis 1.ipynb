{
 "cells": [
  {
   "cell_type": "markdown",
   "id": "48cb41a8-1a66-42a7-ad0f-5051f0d77d65",
   "metadata": {},
   "source": [
    "# Main libraries\n",
    "We start by importing the main libraires that we will use:\n",
    "\n",
    "- the re module (for regular expression matching operations)<br>\n",
    "- the tk toolkit (for natural language operations)<br>\n",
    "- the random module (for random number generation)<br>\n",
    "- the numpy library (for arrays operations)<br>\n",
    "- the pandas library (for data analysis)<br>\n",
    "- the scipy.stats module (for statistics)<br>\n",
    "- the seaborn library (for statistical data visualization)<br>\n",
    "- the matplotlib.pyplot interface (for MATLAB-like plots)<br>\n",
    "\n",
    "### We also download the stopwords and punkt data packages from the nltk toolkit.\n",
    "model.compile(optimizer='adam', loss='bce', metrics='accuracy')\n"
   ]
  },
  {
   "cell_type": "code",
   "execution_count": 1,
   "id": "945ec700-16ee-47fc-8a3b-20c2cb5bdc43",
   "metadata": {},
   "outputs": [
    {
     "name": "stderr",
     "output_type": "stream",
     "text": [
      "/home/dimitra/anaconda3/lib/python3.9/site-packages/scipy/__init__.py:146: UserWarning: A NumPy version >=1.16.5 and <1.23.0 is required for this version of SciPy (detected version 1.23.0\n",
      "  warnings.warn(f\"A NumPy version >={np_minversion} and <{np_maxversion}\"\n",
      "[nltk_data] Downloading package punkt to /home/dimitra/nltk_data...\n",
      "[nltk_data]   Package punkt is already up-to-date!\n",
      "[nltk_data] Downloading package stopwords to\n",
      "[nltk_data]     /home/dimitra/nltk_data...\n",
      "[nltk_data]   Package stopwords is already up-to-date!\n"
     ]
    }
   ],
   "source": [
    "import re\n",
    "import nltk\n",
    "import random\n",
    "import numpy as np\n",
    "import pandas as pd\n",
    "import seaborn as sns\n",
    "from scipy import stats\n",
    "import matplotlib.pyplot as plt\n",
    "\n",
    "nltk.download('punkt')\n",
    "nltk.download('stopwords')\n",
    "\n",
    "# Setting as large the xtick and ytick font sizes in graphs\n",
    "\n",
    "plt.rcParams['xtick.labelsize'] = 'large'\n",
    "plt.rcParams['ytick.labelsize'] = 'large'"
   ]
  },
  {
   "cell_type": "markdown",
   "id": "264eb8f7-d5cb-44da-8666-35618ec4c708",
   "metadata": {},
   "source": [
    "### IMDB dataset\n",
    "We retrieve from Kaggle the csv file \"IMDB Dataset.csv\" consisting of 50'000 IMDB movies and TV shows reviews with their positive or negative sentiment classification."
   ]
  },
  {
   "cell_type": "code",
   "execution_count": 2,
   "id": "2929cbf5-9401-4aae-8373-6a51d13c093b",
   "metadata": {},
   "outputs": [
    {
     "data": {
      "text/html": [
       "<div>\n",
       "<style scoped>\n",
       "    .dataframe tbody tr th:only-of-type {\n",
       "        vertical-align: middle;\n",
       "    }\n",
       "\n",
       "    .dataframe tbody tr th {\n",
       "        vertical-align: top;\n",
       "    }\n",
       "\n",
       "    .dataframe thead th {\n",
       "        text-align: right;\n",
       "    }\n",
       "</style>\n",
       "<table border=\"1\" class=\"dataframe\">\n",
       "  <thead>\n",
       "    <tr style=\"text-align: right;\">\n",
       "      <th></th>\n",
       "      <th>review</th>\n",
       "      <th>sentiment</th>\n",
       "    </tr>\n",
       "  </thead>\n",
       "  <tbody>\n",
       "    <tr>\n",
       "      <th>0</th>\n",
       "      <td>One of the other reviewers has mentioned that ...</td>\n",
       "      <td>positive</td>\n",
       "    </tr>\n",
       "    <tr>\n",
       "      <th>1</th>\n",
       "      <td>A wonderful little production. &lt;br /&gt;&lt;br /&gt;The...</td>\n",
       "      <td>positive</td>\n",
       "    </tr>\n",
       "    <tr>\n",
       "      <th>2</th>\n",
       "      <td>I thought this was a wonderful way to spend ti...</td>\n",
       "      <td>positive</td>\n",
       "    </tr>\n",
       "    <tr>\n",
       "      <th>3</th>\n",
       "      <td>Basically there's a family where a little boy ...</td>\n",
       "      <td>negative</td>\n",
       "    </tr>\n",
       "    <tr>\n",
       "      <th>4</th>\n",
       "      <td>Petter Mattei's \"Love in the Time of Money\" is...</td>\n",
       "      <td>positive</td>\n",
       "    </tr>\n",
       "    <tr>\n",
       "      <th>...</th>\n",
       "      <td>...</td>\n",
       "      <td>...</td>\n",
       "    </tr>\n",
       "    <tr>\n",
       "      <th>49995</th>\n",
       "      <td>I thought this movie did a down right good job...</td>\n",
       "      <td>positive</td>\n",
       "    </tr>\n",
       "    <tr>\n",
       "      <th>49996</th>\n",
       "      <td>Bad plot, bad dialogue, bad acting, idiotic di...</td>\n",
       "      <td>negative</td>\n",
       "    </tr>\n",
       "    <tr>\n",
       "      <th>49997</th>\n",
       "      <td>I am a Catholic taught in parochial elementary...</td>\n",
       "      <td>negative</td>\n",
       "    </tr>\n",
       "    <tr>\n",
       "      <th>49998</th>\n",
       "      <td>I'm going to have to disagree with the previou...</td>\n",
       "      <td>negative</td>\n",
       "    </tr>\n",
       "    <tr>\n",
       "      <th>49999</th>\n",
       "      <td>No one expects the Star Trek movies to be high...</td>\n",
       "      <td>negative</td>\n",
       "    </tr>\n",
       "  </tbody>\n",
       "</table>\n",
       "<p>50000 rows × 2 columns</p>\n",
       "</div>"
      ],
      "text/plain": [
       "                                                  review sentiment\n",
       "0      One of the other reviewers has mentioned that ...  positive\n",
       "1      A wonderful little production. <br /><br />The...  positive\n",
       "2      I thought this was a wonderful way to spend ti...  positive\n",
       "3      Basically there's a family where a little boy ...  negative\n",
       "4      Petter Mattei's \"Love in the Time of Money\" is...  positive\n",
       "...                                                  ...       ...\n",
       "49995  I thought this movie did a down right good job...  positive\n",
       "49996  Bad plot, bad dialogue, bad acting, idiotic di...  negative\n",
       "49997  I am a Catholic taught in parochial elementary...  negative\n",
       "49998  I'm going to have to disagree with the previou...  negative\n",
       "49999  No one expects the Star Trek movies to be high...  negative\n",
       "\n",
       "[50000 rows x 2 columns]"
      ]
     },
     "execution_count": 2,
     "metadata": {},
     "output_type": "execute_result"
    }
   ],
   "source": [
    "# Storing the csv file into a DataFrame \"df\"\n",
    "\n",
    "df = pd.read_csv('IMDB Dataset.csv')\n",
    "df"
   ]
  },
  {
   "cell_type": "markdown",
   "id": "14e8e5b7-be8a-4af3-ba5f-0e6bee1c5cba",
   "metadata": {},
   "source": [
    "We print the basic properties of the DataFrame. In particular, we note that there are no null values in the DataFrame."
   ]
  },
  {
   "cell_type": "code",
   "execution_count": 3,
   "id": "2a1f7796-7d50-42a8-97d9-3ea8c9b22ec0",
   "metadata": {},
   "outputs": [
    {
     "name": "stdout",
     "output_type": "stream",
     "text": [
      "\u001b[1mdf.shape:\u001b[0m (50000, 2)\n",
      "\u001b[1mdf.columns:\u001b[0m Index(['review', 'sentiment'], dtype='object') \n",
      "\n",
      "\u001b[1mdf.sentiment.value_counts():\u001b[0m\n",
      "positive    25000\n",
      "negative    25000\n",
      "Name: sentiment, dtype: int64 \n",
      "\n"
     ]
    },
    {
     "data": {
      "image/png": "[encoded data removed]",
      "text/plain": [
       "<Figure size 432x288 with 1 Axes>"
      ]
     },
     "metadata": {},
     "output_type": "display_data"
    },
    {
     "name": "stdout",
     "output_type": "stream",
     "text": [
      "\u001b[1mdf.info:\u001b[0m\n",
      "<class 'pandas.core.frame.DataFrame'>\n",
      "RangeIndex: 50000 entries, 0 to 49999\n",
      "Data columns (total 2 columns):\n",
      " #   Column     Non-Null Count  Dtype \n",
      "---  ------     --------------  ----- \n",
      " 0   review     50000 non-null  object\n",
      " 1   sentiment  50000 non-null  object\n",
      "dtypes: object(2)\n",
      "memory usage: 781.4+ KB\n"
     ]
    }
   ],
   "source": [
    "print('\\033[1m' + 'df.shape:' + '\\033[0m', df.shape)\n",
    "print('\\033[1m' + 'df.columns:' + '\\033[0m', df.columns, '\\n')\n",
    "print('\\033[1m' + 'df.sentiment.value_counts():' + '\\033[0m')\n",
    "print(df.sentiment.value_counts(), '\\n')\n",
    "\n",
    "with sns.axes_style(\"darkgrid\"):\n",
    "    df['sentiment'].value_counts().plot.bar(color=['darkblue', 'r'], rot=0, fontsize='large')\n",
    "    plt.show()\n",
    "\n",
    "print('\\033[1m' + 'df.info:' + '\\033[0m')\n",
    "df.info()"
   ]
  },
  {
   "cell_type": "markdown",
   "id": "c472cee4-5732-43c2-8d67-6dab2397eb70",
   "metadata": {},
   "source": [
    "To make the DataFrame suitable for analysis by converting its sentiment values to integers:\n",
    "\n",
    "positive  <br>\n",
    "→1 <br>\n",
    "negative  <br>\n",
    "→0"
   ]
  },
  {
   "cell_type": "code",
   "execution_count": 4,
   "id": "4d719daf-5d67-4c20-9609-4fef20890841",
   "metadata": {},
   "outputs": [
    {
     "data": {
      "text/html": [
       "<div>\n",
       "<style scoped>\n",
       "    .dataframe tbody tr th:only-of-type {\n",
       "        vertical-align: middle;\n",
       "    }\n",
       "\n",
       "    .dataframe tbody tr th {\n",
       "        vertical-align: top;\n",
       "    }\n",
       "\n",
       "    .dataframe thead th {\n",
       "        text-align: right;\n",
       "    }\n",
       "</style>\n",
       "<table border=\"1\" class=\"dataframe\">\n",
       "  <thead>\n",
       "    <tr style=\"text-align: right;\">\n",
       "      <th></th>\n",
       "      <th>review</th>\n",
       "      <th>sentiment</th>\n",
       "    </tr>\n",
       "  </thead>\n",
       "  <tbody>\n",
       "    <tr>\n",
       "      <th>0</th>\n",
       "      <td>One of the other reviewers has mentioned that ...</td>\n",
       "      <td>1</td>\n",
       "    </tr>\n",
       "    <tr>\n",
       "      <th>1</th>\n",
       "      <td>A wonderful little production. &lt;br /&gt;&lt;br /&gt;The...</td>\n",
       "      <td>1</td>\n",
       "    </tr>\n",
       "    <tr>\n",
       "      <th>2</th>\n",
       "      <td>I thought this was a wonderful way to spend ti...</td>\n",
       "      <td>1</td>\n",
       "    </tr>\n",
       "    <tr>\n",
       "      <th>3</th>\n",
       "      <td>Basically there's a family where a little boy ...</td>\n",
       "      <td>0</td>\n",
       "    </tr>\n",
       "    <tr>\n",
       "      <th>4</th>\n",
       "      <td>Petter Mattei's \"Love in the Time of Money\" is...</td>\n",
       "      <td>1</td>\n",
       "    </tr>\n",
       "    <tr>\n",
       "      <th>...</th>\n",
       "      <td>...</td>\n",
       "      <td>...</td>\n",
       "    </tr>\n",
       "    <tr>\n",
       "      <th>49995</th>\n",
       "      <td>I thought this movie did a down right good job...</td>\n",
       "      <td>1</td>\n",
       "    </tr>\n",
       "    <tr>\n",
       "      <th>49996</th>\n",
       "      <td>Bad plot, bad dialogue, bad acting, idiotic di...</td>\n",
       "      <td>0</td>\n",
       "    </tr>\n",
       "    <tr>\n",
       "      <th>49997</th>\n",
       "      <td>I am a Catholic taught in parochial elementary...</td>\n",
       "      <td>0</td>\n",
       "    </tr>\n",
       "    <tr>\n",
       "      <th>49998</th>\n",
       "      <td>I'm going to have to disagree with the previou...</td>\n",
       "      <td>0</td>\n",
       "    </tr>\n",
       "    <tr>\n",
       "      <th>49999</th>\n",
       "      <td>No one expects the Star Trek movies to be high...</td>\n",
       "      <td>0</td>\n",
       "    </tr>\n",
       "  </tbody>\n",
       "</table>\n",
       "<p>50000 rows × 2 columns</p>\n",
       "</div>"
      ],
      "text/plain": [
       "                                                  review  sentiment\n",
       "0      One of the other reviewers has mentioned that ...          1\n",
       "1      A wonderful little production. <br /><br />The...          1\n",
       "2      I thought this was a wonderful way to spend ti...          1\n",
       "3      Basically there's a family where a little boy ...          0\n",
       "4      Petter Mattei's \"Love in the Time of Money\" is...          1\n",
       "...                                                  ...        ...\n",
       "49995  I thought this movie did a down right good job...          1\n",
       "49996  Bad plot, bad dialogue, bad acting, idiotic di...          0\n",
       "49997  I am a Catholic taught in parochial elementary...          0\n",
       "49998  I'm going to have to disagree with the previou...          0\n",
       "49999  No one expects the Star Trek movies to be high...          0\n",
       "\n",
       "[50000 rows x 2 columns]"
      ]
     },
     "execution_count": 4,
     "metadata": {},
     "output_type": "execute_result"
    }
   ],
   "source": [
    "df.sentiment = [1 if s == 'positive' else 0 for s in df.sentiment]\n",
    "df"
   ]
  },
  {
   "cell_type": "markdown",
   "id": "b0ea3ae4-e953-42b0-a488-3a90b31818e3",
   "metadata": {},
   "source": [
    "# Data preprocessing\n",
    "First, we use regular expressions to make the following transformations to the reviews:\n",
    "\n",
    "- remove punctuation marks\n",
    "- remove HTML tags\n",
    "- remove URL's\n",
    "- remove characters which are not letters or digits\n",
    "- remove successive whitespaces\n",
    "- convert the text to lower case\n",
    "- strip whitespaces from the beginning and the end of the reviews"
   ]
  },
  {
   "cell_type": "code",
   "execution_count": 5,
   "id": "e03cdec0-a351-4054-b4e9-f6ffaecab56a",
   "metadata": {},
   "outputs": [],
   "source": [
    "# Storing in \"before_process\" a random example of review before preprocessing for comparison reasons\n",
    "# Defining and applying the function \"process\" performing the transformations of the reviews\n",
    "# Storing in \"after_process\" the example of review after preprocessing for comparison reasons\n",
    "\n",
    "exp = random.randint(0, len(df)-1)\n",
    "before_process = df.iloc[exp][0]\n",
    "\n",
    "def process(x):\n",
    "    x = re.sub('[,\\.!?:()\"]', '', x)\n",
    "    x = re.sub('<.*?>', ' ', x)\n",
    "    x = re.sub('http\\S+', ' ', x)\n",
    "    x = re.sub('[^a-zA-Z0-9]', ' ', x)\n",
    "    x = re.sub('\\s+', ' ', x)\n",
    "    return x.lower().strip()\n",
    "\n",
    "df['review'] = df['review'].apply(lambda x: process(x))\n",
    "after_process = df.iloc[exp][0]"
   ]
  },
  {
   "cell_type": "markdown",
   "id": "96522ef2-2e74-4483-8e25-6c90f9a2026c",
   "metadata": {},
   "source": [
    "Next, we remove stopwords from the reviews using the word_tokenize() function from the nltk.tokenize package."
   ]
  },
  {
   "cell_type": "code",
   "execution_count": 6,
   "id": "c7d65351-3c32-4d0a-8ae5-5b5482d9ebce",
   "metadata": {},
   "outputs": [],
   "source": [
    "# Storing in \"stop_set\" the set of English stopwords provided by nltk\n",
    "# Defining and applying the function \"stop_remove\" which remove stopwords from reviews\n",
    "# Storing in \"after_removal\" the example of review after removal of the stopwords\n",
    "\n",
    "stop_set = set(nltk.corpus.stopwords.words('english'))\n",
    "\n",
    "def stop_remove(x):\n",
    "    words = nltk.tokenize.word_tokenize(x)\n",
    "    filtered_list = [word for word in words if word not in stop_set]\n",
    "    return ' '.join(filtered_list)\n",
    "\n",
    "df['review'] = df['review'].apply(lambda x: stop_remove(x))\n",
    "after_removal = stop_remove(after_process)"
   ]
  },
  {
   "cell_type": "markdown",
   "id": "758f7ef4-b90b-43dd-98ea-28c8e6045351",
   "metadata": {},
   "source": [
    "Lets print the example of review before preprocessing, after preprocessing and after stopwords removal"
   ]
  },
  {
   "cell_type": "code",
   "execution_count": 7,
   "id": "00c8ff80-9332-45bd-bcaa-de60a2a28e7b",
   "metadata": {},
   "outputs": [
    {
     "name": "stdout",
     "output_type": "stream",
     "text": [
      "\u001b[1mReview #10024 before preprocessing:\u001b[0m\n",
      " Painful. Painful is the only word to describe this awful rendition of such a fun and interesting Shakespearean play. I gave it a shot but was terribly disappointed and couldn't bare to even finish viewing it. To the person who wrote a novel about how wonderful this twist of Much Ado was, I pity you and your bored brain. May your pretenses about young viewers be lifted without retribution. Please do not even bother with this gut wrenching, disgusting excuse for a performance of an acclaimed Shakespeare drama. You will be forced to induce vomiting and will require a commode close to the television with which you choose to watch this crap because involuntary defecation will take place. \n",
      "\n",
      "\u001b[1mReview #10024 after preprocessing:\u001b[0m\n",
      " painful painful is the only word to describe this awful rendition of such a fun and interesting shakespearean play i gave it a shot but was terribly disappointed and couldn t bare to even finish viewing it to the person who wrote a novel about how wonderful this twist of much ado was i pity you and your bored brain may your pretenses about young viewers be lifted without retribution please do not even bother with this gut wrenching disgusting excuse for a performance of an acclaimed shakespeare drama you will be forced to induce vomiting and will require a commode close to the television with which you choose to watch this crap because involuntary defecation will take place \n",
      "\n",
      "\u001b[1mReview #10024 after preprocessing and stopwords removal:\u001b[0m\n",
      " painful painful word describe awful rendition fun interesting shakespearean play gave shot terribly disappointed bare even finish viewing person wrote novel wonderful twist much ado pity bored brain may pretenses young viewers lifted without retribution please even bother gut wrenching disgusting excuse performance acclaimed shakespeare drama forced induce vomiting require commode close television choose watch crap involuntary defecation take place\n"
     ]
    }
   ],
   "source": [
    "print('\\033[1m' + 'Review #%d before preprocessing:' % exp + '\\033[0m' + '\\n', before_process, '\\n')\n",
    "print('\\033[1m' + 'Review #%d after preprocessing:' % exp + '\\033[0m' + '\\n', after_process, '\\n')\n",
    "print('\\033[1m' + 'Review #%d after preprocessing and stopwords removal:' % exp + '\\033[0m' + '\\n', after_removal)"
   ]
  },
  {
   "cell_type": "markdown",
   "id": "18de1262-ed3c-4813-add1-19f715e4286c",
   "metadata": {},
   "source": [
    "# Data splitting and tokenization\n",
    "We start by splitting our DataFrame into a training and test lists. We use the train_test_split() function from the sklearn.model_selection module which allow to perform the splitting randomly with respect to the index of the DataFrame."
   ]
  },
  {
   "cell_type": "code",
   "execution_count": 8,
   "id": "c136e173-f94d-4296-9a20-848cee816b95",
   "metadata": {},
   "outputs": [
    {
     "name": "stdout",
     "output_type": "stream",
     "text": [
      "\u001b[1mtrain_rev.shape:\u001b[0m (45000,)\n",
      "\u001b[1mtest_rev.shape:\u001b[0m (5000,)\n",
      "\u001b[1mtrain_sent.shape:\u001b[0m (45000,)\n",
      "\u001b[1mtest_sent.shape:\u001b[0m (5000,)\n"
     ]
    }
   ],
   "source": [
    "from sklearn.model_selection import train_test_split\n",
    "\n",
    "train_re, test_re, train_sent, test_sent = train_test_split(df['review'], df['sentiment'], test_size=0.1, random_state=42)\n",
    "\n",
    "print('\\033[1m' + 'train_rev.shape:' + '\\033[0m', train_re.shape)\n",
    "print('\\033[1m' + 'test_rev.shape:' + '\\033[0m', test_re.shape)\n",
    "print('\\033[1m' + 'train_sent.shape:' + '\\033[0m', train_sent.shape)\n",
    "print('\\033[1m' + 'test_sent.shape:' + '\\033[0m', test_sent.shape)"
   ]
  },
  {
   "cell_type": "markdown",
   "id": "55587a6a-dd33-4a52-b8a2-6cd9e336f6ca",
   "metadata": {},
   "source": [
    "Next, we use the Tokenizer class from keras.preprocessing.text module to create a dictionary of the \"dict_size\" most frequent words present in the reviews (a unique integer is assigned to each word), and we print some of its attributes. The index of the Tokenizer is computed the same way no matter how many most frequent words we use later, see this post."
   ]
  },
  {
   "cell_type": "code",
   "execution_count": 9,
   "id": "2aff7e95-e5fa-4155-8903-7ca13f6f7dae",
   "metadata": {},
   "outputs": [
    {
     "name": "stderr",
     "output_type": "stream",
     "text": [
      "2022-06-25 19:41:42.197455: W tensorflow/stream_executor/platform/default/dso_loader.cc:64] Could not load dynamic library 'libcudart.so.11.0'; dlerror: libcudart.so.11.0: cannot open shared object file: No such file or directory\n",
      "2022-06-25 19:41:42.197471: I tensorflow/stream_executor/cuda/cudart_stub.cc:29] Ignore above cudart dlerror if you do not have a GPU set up on your machine.\n"
     ]
    },
    {
     "name": "stdout",
     "output_type": "stream",
     "text": [
      "\u001b[1mDictionary size:\u001b[0m 35000\n",
      "\u001b[1mLength of the tokenizer index:\u001b[0m 125791\n",
      "\u001b[1mNumber of documents the tokenizer was trained on:\u001b[0m 50000 \n",
      "\n",
      "\u001b[1mFirst 20 entries of the tokenizer index:\u001b[0m\n",
      "('movie', 1) ('film', 2) ('one', 3) ('like', 4) ('good', 5) ('time', 6) ('even', 7) ('would', 8) ('really', 9) ('story', 10) ('see', 11) ('well', 12) ('much', 13) ('get', 14) ('bad', 15) ('people', 16) ('great', 17) ('also', 18) ('first', 19) ('made', 20)\n"
     ]
    }
   ],
   "source": [
    "from keras.preprocessing.text import Tokenizer\n",
    "\n",
    "dict_size = 35000\n",
    "tokenizer = Tokenizer(num_words=dict_size)\n",
    "tokenizer.fit_on_texts(df['review'])\n",
    "\n",
    "print('\\033[1m' + 'Dictionary size:' + '\\033[0m', dict_size)\n",
    "print('\\033[1m' + 'Length of the tokenizer index:' + '\\033[0m', len(tokenizer.word_index))\n",
    "print('\\033[1m' + 'Number of documents the tokenizer was trained on:' + '\\033[0m', tokenizer.document_count, '\\n')\n",
    "print('\\033[1m' + 'First 20 entries of the tokenizer index:' + '\\033[0m')\n",
    "print(*list(tokenizer.word_index.items())[:20])"
   ]
  },
  {
   "cell_type": "markdown",
   "id": "6036dd59-8fa8-4781-8341-90567fb8009e",
   "metadata": {},
   "source": [
    "We use the texts_to_sequences() function of the Tokenizer class to convert the training reviews and test reviews to lists of sequences of integers (tokens) \"train_rev_tokens\" and \"test_rev_tokens\", and we store in the numpy array \"text_lengths\" the lengths of the sequences included in \"train_rev_tokens\"."
   ]
  },
  {
   "cell_type": "code",
   "execution_count": 10,
   "id": "6d5847cb-c4d2-48ca-9447-2cbeb79dc875",
   "metadata": {},
   "outputs": [],
   "source": [
    "train_re_tkns = tokenizer.texts_to_sequences(train_re)\n",
    "test_re_tkns = tokenizer.texts_to_sequences(test_re)\n",
    "text_lengths =  np.array([len(sequence) for sequence in train_re_tkns])"
   ]
  },
  {
   "cell_type": "markdown",
   "id": "64d29b4b-6fda-4b00-8b0f-4f8f7daaddf5",
   "metadata": {},
   "source": [
    "If the lengths of the sequences were normally distributed, then a given length could be considered small or large when outside the interval <br>\n",
    "\n",
    "mean value of seq_lengths ± 2 standard deviations of seq_lengths, <br>\n",
    " \n",
    "and lengths not belonging to this interval would only represent 5% of the elements of seq_lengths (see the 68–95–99.7 rule in statistics). Here, we follow this heuristics, and thus define an upper bound for the length of sequences accordingly."
   ]
  },
  {
   "cell_type": "code",
   "execution_count": 11,
   "id": "342578f9-c91d-406c-a1ff-1ebad002b54b",
   "metadata": {},
   "outputs": [
    {
     "name": "stdout",
     "output_type": "stream",
     "text": [
      "The value of upper_bound is 291 and the percentage of sequences in \"train_rev_tokens\" of length smaller or equal than upper_bound is 94.56%.\n"
     ]
    },
    {
     "data": {
      "image/png": "[encoded data removed]",
      "text/plain": [
       "<Figure size 720x432 with 1 Axes>"
      ]
     },
     "metadata": {},
     "output_type": "display_data"
    }
   ],
   "source": [
    "# Storing in \"upper\" our chosen upper bound for the length of sequences\n",
    "# Computing the percentage of lengths smaller or equal than \"upper\"\n",
    "\n",
    "upper  = int(np.mean(text_lengths) + 2 * np.std(text_lengths))\n",
    "percentage = stats.percentileofscore(text_lengths, upper)\n",
    "\n",
    "print('The value of upper_bound is %d and the percentage of sequences in \"train_rev_tokens\" \\\n",
    "of length smaller or equal than upper_bound is %.2f%%.' % (upper, round(percentage, 2)))\n",
    "\n",
    "# Histogram plot of the lengths of the sequences in \"train_rev_tokens\"\n",
    "\n",
    "with sns.axes_style(\"darkgrid\"):\n",
    "\n",
    "    _, hist = plt.subplots(figsize=(10,6))\n",
    "    hist.hist(text_lengths[text_lengths < 2*upper], color='darkblue', bins=40, rwidth=0.7)\n",
    "    hist.axvline(np.mean(text_lengths), color='darkorange', linestyle='--', label='Mean value')\n",
    "    hist.axvline(upper, color='r', linestyle='--', label='Upper bound')\n",
    "\n",
    "    plt.xlabel('Length of sequences in \"train_re_tkns\"', size='large')\n",
    "    plt.ylabel('Number of samples', size='large')\n",
    "    plt.text(upper, 0, 'test')\n",
    "    plt.legend(fontsize='large', facecolor='palegreen')\n",
    "    plt.xticks(rotation=30)\n",
    "    plt.show()"
   ]
  },
  {
   "cell_type": "markdown",
   "id": "6defe77a-f004-4ae8-b046-eeb5e7fb5a4d",
   "metadata": {},
   "source": [
    "Using the pad_sequences() function from keras.preprocessing.sequence module, we transform \"train_re_tkns\" and \"test_re_tkns\" into 2D numpy arrays of shape (number of sequences, upper). Sequences of length smaller (resp. larger) than \"upper\" are extended (resp. truncated) to get a length equal to \"upper\"."
   ]
  },
  {
   "cell_type": "code",
   "execution_count": 12,
   "id": "aea6759e-57c9-4168-a487-2deda0881c18",
   "metadata": {},
   "outputs": [
    {
     "name": "stdout",
     "output_type": "stream",
     "text": [
      "\u001b[1mtrain_re_pad.shape:\u001b[0m (45000, 291)\n",
      "\u001b[1mtest_re_pad.shape:\u001b[0m (5000, 291) \n",
      "\n",
      "\u001b[1mReview #36979 after padding:\u001b[0m\n",
      " [    0     0     0     0     0     0     0     0     0     0     0     0\n",
      "     0     0     0     0     0     0     0     0     0     0     0     0\n",
      "     0     0     0     0     0     0     0     0     0     0     0     0\n",
      "     0     0     0     0     0     0     0     0     0     0     0     0\n",
      "     0     0     0     0     0     0     0     0     0     0     0     0\n",
      "     0     0     0     0     0     0     0     0     0     0     0     0\n",
      "     0     0     0     0     0     0     0     0     0     0     0     0\n",
      "     0     0     0     0     0     0     0     0     0     0     0     0\n",
      "     0     0     0     0     0     0     0     0     0     0     0     0\n",
      "     0     0     0     0     0     0     0     0     0     0     0     0\n",
      "     0     0     0     0     0     0     0     0     0     0     0     0\n",
      "     0     0     0     0     0     0     0     0     0     0     0     0\n",
      "     0     0     0     0     0     0     0     0     0     0     0     0\n",
      "     0     0     0     0     0     0     0     0     0     0     0     0\n",
      "     0     0     0     0     0     0     0     0     0     0     0     0\n",
      "     0     0     0     0     0     0     0     0     0     0     0     0\n",
      "     0     0     0     0     0     0     0     0     0     0     0     0\n",
      "     0     0     0     0     0     0     0     0     0     0     0     0\n",
      "     0     0     0     0     0     0     0     0     0     0     0     0\n",
      "     0     0     0     0     0     0     0     0     0     0     0     0\n",
      "     0     0     0     0     0     0     0     0     0     0     0     0\n",
      "   282   347   956  2353    83   534     2   110   155  3654  2088     4\n",
      "   119 17993   220    15  6463    48   144    80   441  2620     9  4832\n",
      "    74  2353   187  3685    83    24     4  1836  1537    34    79    50\n",
      "  2698   668     2]\n"
     ]
    }
   ],
   "source": [
    "from keras_preprocessing.sequence import pad_sequences\n",
    "\n",
    "train_re_pad = pad_sequences(train_re_tkns, maxlen=upper)\n",
    "test_re_pad = pad_sequences(test_re_tkns, maxlen=upper)\n",
    "\n",
    "print('\\033[1m' + 'train_re_pad.shape:' + '\\033[0m', train_re_pad.shape)\n",
    "print('\\033[1m' + 'test_re_pad.shape:' + '\\033[0m', test_re_pad.shape, '\\n')\n",
    "\n",
    "# Printing an example of review after padding\n",
    "\n",
    "exp_pad = random.randint(0, len(train_re_pad)-1)\n",
    "print('\\033[1m' + 'Review #%d after padding:' %exp_pad + '\\033[0m' + '\\n', train_re_pad[exp_pad])"
   ]
  },
  {
   "cell_type": "markdown",
   "id": "f8a207d8-efcd-4a61-a3b9-158ae2b6ce25",
   "metadata": {},
   "source": [
    "# LSTM Model¶\n",
    "### We start by importing some classes from Keras:\n",
    "\n",
    "- the Sequential class from the keras.models API (to group a linear stack of layers into a model)\n",
    "- the Embedding class from the keras.layers API (to turn positive integers (indexes) into dense vectors of fixed size\n",
    "- the LSTM class from the keras.layers API (to apply a long short-term memory layer to an input)\n",
    "- the Dropout class from the keras.layers API (to apply dropout to an input)\n",
    "- the Dense class from the keras.layers API (to apply a regular densely-connected NN layer to an input)"
   ]
  },
  {
   "cell_type": "code",
   "execution_count": 13,
   "id": "9d111b22-d15f-4793-ba75-a19609635fbf",
   "metadata": {},
   "outputs": [],
   "source": [
    "import tensorflow as tf\n",
    "from tensorflow import keras\n",
    "\n",
    "from keras.callbacks import EarlyStopping,ModelCheckpoint\n",
    "from tensorflow.keras.utils import to_categorical\n",
    "from keras.preprocessing.text import Tokenizer\n",
    "from keras_preprocessing.sequence import pad_sequences\n",
    "from keras.layers import Embedding,Conv1D,LSTM,GRU,BatchNormalization,Flatten,Dense\n"
   ]
  },
  {
   "cell_type": "code",
   "execution_count": 14,
   "id": "874b2518-5c7e-4a4f-8d5d-f391c2ba9ba2",
   "metadata": {},
   "outputs": [
    {
     "name": "stderr",
     "output_type": "stream",
     "text": [
      "2022-06-25 19:41:48.216531: I tensorflow/stream_executor/cuda/cuda_gpu_executor.cc:975] successful NUMA node read from SysFS had negative value (-1), but there must be at least one NUMA node, so returning NUMA node zero\n",
      "2022-06-25 19:41:48.217111: W tensorflow/stream_executor/platform/default/dso_loader.cc:64] Could not load dynamic library 'libcudart.so.11.0'; dlerror: libcudart.so.11.0: cannot open shared object file: No such file or directory\n",
      "2022-06-25 19:41:48.217165: W tensorflow/stream_executor/platform/default/dso_loader.cc:64] Could not load dynamic library 'libcublas.so.11'; dlerror: libcublas.so.11: cannot open shared object file: No such file or directory\n",
      "2022-06-25 19:41:48.217202: W tensorflow/stream_executor/platform/default/dso_loader.cc:64] Could not load dynamic library 'libcublasLt.so.11'; dlerror: libcublasLt.so.11: cannot open shared object file: No such file or directory\n",
      "2022-06-25 19:41:48.218931: W tensorflow/stream_executor/platform/default/dso_loader.cc:64] Could not load dynamic library 'libcusolver.so.11'; dlerror: libcusolver.so.11: cannot open shared object file: No such file or directory\n",
      "2022-06-25 19:41:48.218974: W tensorflow/stream_executor/platform/default/dso_loader.cc:64] Could not load dynamic library 'libcusparse.so.11'; dlerror: libcusparse.so.11: cannot open shared object file: No such file or directory\n",
      "2022-06-25 19:41:48.219038: W tensorflow/stream_executor/platform/default/dso_loader.cc:64] Could not load dynamic library 'libcudnn.so.8'; dlerror: libcudnn.so.8: cannot open shared object file: No such file or directory\n",
      "2022-06-25 19:41:48.219044: W tensorflow/core/common_runtime/gpu/gpu_device.cc:1850] Cannot dlopen some GPU libraries. Please make sure the missing libraries mentioned above are installed properly if you would like to use GPU. Follow the guide at https://www.tensorflow.org/install/gpu for how to download and setup the required libraries for your platform.\n",
      "Skipping registering GPU devices...\n",
      "2022-06-25 19:41:48.219355: I tensorflow/core/platform/cpu_feature_guard.cc:193] This TensorFlow binary is optimized with oneAPI Deep Neural Network Library (oneDNN) to use the following CPU instructions in performance-critical operations:  AVX2 FMA\n",
      "To enable them in other operations, rebuild TensorFlow with the appropriate compiler flags.\n"
     ]
    }
   ],
   "source": [
    "model= keras.Sequential()\n",
    "model.add(Embedding(input_dim=dict_size, output_dim=14, input_length=upper))\n",
    "model.add(Conv1D(64,10,activation='relu'))\n",
    "model.add(keras.layers.Bidirectional(LSTM(32,return_sequences=True)))\n",
    "model.add(LSTM(16))\n",
    "model.add(keras.layers.Dropout(0.8))\n",
    "model.add(Dense(1,activation='sigmoid'))\n",
    "          \n",
    "          \n",
    "\n"
   ]
  },
  {
   "cell_type": "code",
   "execution_count": 15,
   "id": "ff205060-3e36-47fc-8178-5c6b103a4385",
   "metadata": {},
   "outputs": [
    {
     "name": "stdout",
     "output_type": "stream",
     "text": [
      "Model: \"sequential\"\n",
      "_________________________________________________________________\n",
      " Layer (type)                Output Shape              Param #   \n",
      "=================================================================\n",
      " embedding (Embedding)       (None, 291, 14)           490000    \n",
      "                                                                 \n",
      " conv1d (Conv1D)             (None, 282, 64)           9024      \n",
      "                                                                 \n",
      " bidirectional (Bidirectiona  (None, 282, 64)          24832     \n",
      " l)                                                              \n",
      "                                                                 \n",
      " lstm_1 (LSTM)               (None, 16)                5184      \n",
      "                                                                 \n",
      " dropout (Dropout)           (None, 16)                0         \n",
      "                                                                 \n",
      " dense (Dense)               (None, 1)                 17        \n",
      "                                                                 \n",
      "=================================================================\n",
      "Total params: 529,057\n",
      "Trainable params: 529,057\n",
      "Non-trainable params: 0\n",
      "_________________________________________________________________\n"
     ]
    }
   ],
   "source": [
    "model.summary()"
   ]
  },
  {
   "cell_type": "code",
   "execution_count": 16,
   "id": "2c350b7b-5708-412d-8501-ca1a7fc5e035",
   "metadata": {},
   "outputs": [
    {
     "name": "stdout",
     "output_type": "stream",
     "text": [
      "Requirement already satisfied: pydot==1.2.3 in ./anaconda3/lib/python3.9/site-packages (1.2.3)\n",
      "Requirement already satisfied: pyparsing>=2.1.4 in ./anaconda3/lib/python3.9/site-packages (from pydot==1.2.3) (3.0.9)\n",
      "Requirement already satisfied: graphviz in ./anaconda3/lib/python3.9/site-packages (0.20)\n"
     ]
    }
   ],
   "source": [
    "!pip install pydot==1.2.3\n",
    "!pip install graphviz\n"
   ]
  },
  {
   "cell_type": "code",
   "execution_count": 17,
   "id": "521e146d-82cb-4314-b0d5-bb981aa7e6cc",
   "metadata": {},
   "outputs": [],
   "source": [
    "from keras.utils.vis_utils import plot_model"
   ]
  },
  {
   "cell_type": "code",
   "execution_count": 18,
   "id": "f3466ab0-8aca-4b36-9dfe-0b7c3e218a67",
   "metadata": {},
   "outputs": [
    {
     "data": {
      "image/png": "[encoded data removed]",
      "text/plain": [
       "<IPython.core.display.Image object>"
      ]
     },
     "execution_count": 18,
     "metadata": {},
     "output_type": "execute_result"
    }
   ],
   "source": [
    "from keras.utils.vis_utils import plot_model\n",
    "\n",
    "plot_model(model, show_shapes=True)"
   ]
  },
  {
   "cell_type": "code",
   "execution_count": 19,
   "id": "b6b627ef-ba72-4663-932c-2c39d9606265",
   "metadata": {},
   "outputs": [],
   "source": [
    "model.compile(loss='binary_crossentropy',\n",
    "              optimizer='adam',\n",
    "              metrics=['accuracy']\n",
    "             )\n"
   ]
  },
  {
   "cell_type": "code",
   "execution_count": 21,
   "id": "785a8ac8-bfff-4304-897f-e92e4fa49971",
   "metadata": {},
   "outputs": [
    {
     "name": "stdout",
     "output_type": "stream",
     "text": [
      "Epoch 1/3\n",
      "106/106 [==============================] - 40s 349ms/step - loss: 0.5419 - accuracy: 0.7133 - val_loss: 0.3177 - val_accuracy: 0.8811\n",
      "Epoch 2/3\n",
      "106/106 [==============================] - 36s 343ms/step - loss: 0.2974 - accuracy: 0.9012 - val_loss: 0.2595 - val_accuracy: 0.8944\n",
      "Epoch 3/3\n",
      "106/106 [==============================] - 38s 355ms/step - loss: 0.2047 - accuracy: 0.9364 - val_loss: 0.3079 - val_accuracy: 0.8862\n"
     ]
    }
   ],
   "source": [
    "validation_split = 0.1\n",
    "batch_size = 384\n",
    "epochs = 3\n",
    "\n",
    "fitted = model.fit(train_re_pad, train_sent, validation_split=validation_split,\n",
    "                   batch_size=batch_size, epochs=epochs, shuffle=True)"
   ]
  },
  {
   "cell_type": "code",
   "execution_count": 22,
   "id": "7bfaaca5-56e3-498c-86e7-c033624b5521",
   "metadata": {},
   "outputs": [
    {
     "data": {
      "image/png": "[encoded data removed]",
      "text/plain": [
       "<Figure size 1080x432 with 2 Axes>"
      ]
     },
     "metadata": {},
     "output_type": "display_data"
    }
   ],
   "source": [
    "# Storing in \"ep_values\" the values of the epochs\n",
    "\n",
    "ep_values = range(1, epochs+1)\n",
    "\n",
    "# Plot of the training loss and validation loss (binary cross-entropy)\n",
    "\n",
    "with sns.axes_style(\"darkgrid\"):\n",
    "\n",
    "    _, (loss, acc) = plt.subplots(1, 2, figsize=(15, 6))\n",
    "    loss.plot(ep_values, fitted.history['loss'], color='darkblue', linestyle='dotted',\n",
    "              marker='o', label='Training loss (binary cross-entropy)')\n",
    "    loss.plot(ep_values, fitted.history['val_loss'], color='r', linestyle='dotted',\n",
    "              marker='o', label='Validation loss (binary cross-entropy)')\n",
    "    loss.set_xlabel('Epoch', size='large')\n",
    "    loss.legend(fontsize='large', facecolor='palegreen')\n",
    "\n",
    "    acc.plot(ep_values, fitted.history['accuracy'], color='darkblue', linestyle='dotted',\n",
    "             marker='o', label='Training accuracy')\n",
    "    acc.plot(ep_values, fitted.history['val_accuracy'], color='r', linestyle='dotted',\n",
    "             marker='o', label='Validation accuracy')\n",
    "    acc.set_xlabel('Epoch', size='large')\n",
    "    acc.legend(fontsize='large', facecolor='palegreen')\n",
    "\n",
    "    plt.show()"
   ]
  },
  {
   "cell_type": "markdown",
   "id": "303c76f3-f4f0-402b-861d-03be5fada257",
   "metadata": {},
   "source": [
    "### Plots\n",
    "### Live Demo??\n",
    "### More epochs???"
   ]
  }
 ],
 "metadata": {
  "kernelspec": {
   "display_name": "Python 3 (ipykernel)",
   "language": "python",
   "name": "python3"
  },
  "language_info": {
   "codemirror_mode": {
    "name": "ipython",
    "version": 3
   },
   "file_extension": ".py",
   "mimetype": "text/x-python",
   "name": "python",
   "nbconvert_exporter": "python",
   "pygments_lexer": "ipython3",
   "version": "3.9.12"
  }
 },
 "nbformat": 4,
 "nbformat_minor": 5
}
